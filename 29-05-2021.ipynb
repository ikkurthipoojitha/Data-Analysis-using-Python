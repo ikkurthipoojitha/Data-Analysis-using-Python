{
 "cells": [
  {
   "cell_type": "markdown",
   "metadata": {},
   "source": [
    "Iterations:\n",
    "----------------\n",
    "- If we need to execute a condition for several number of times, then we use Iterations.\n",
    "- for and While\n",
    "### For loop\n",
    "- for loop is used to iterate over a sequence (list,tuple, dictinary, set and strings)\n",
    "- Syntax for sequence: \n",
    "    for each in sequence:\n",
    "        body of for loop\n",
    "        \n",
    "- syntax\n",
    "    for each in range(start,stop,step):\n",
    "        body of for loop\n",
    "        \n",
    "### While loop\n",
    "- while loop is used to iterate the statements as long as the condition is satisfied.\n",
    "- syntax:\n",
    "    while condition:\n",
    "        body of while"
   ]
  },
  {
   "cell_type": "code",
   "execution_count": 2,
   "metadata": {},
   "outputs": [
    {
     "name": "stdout",
     "output_type": "stream",
     "text": [
      "range(1, 11, 2)\n"
     ]
    }
   ],
   "source": [
    "# range(start,stop,step) # start and step are optional parameters, start = 0 and step = 1, stop-1\n",
    "print(range(1,10+1,2))"
   ]
  },
  {
   "cell_type": "code",
   "execution_count": 8,
   "metadata": {},
   "outputs": [
    {
     "name": "stdout",
     "output_type": "stream",
     "text": [
      "1 3 5 7 9 "
     ]
    }
   ],
   "source": [
    "for i in range(1,10+1,2):\n",
    "    print(i,end = \" \") #end = \"\\n\""
   ]
  },
  {
   "cell_type": "code",
   "execution_count": 9,
   "metadata": {},
   "outputs": [
    {
     "name": "stdout",
     "output_type": "stream",
     "text": [
      "0\n",
      "2\n",
      "4\n",
      "6\n",
      "8\n",
      "10\n"
     ]
    }
   ],
   "source": [
    "for i in range(0,11,2):\n",
    "    print(i)"
   ]
  },
  {
   "cell_type": "code",
   "execution_count": 12,
   "metadata": {},
   "outputs": [
    {
     "name": "stdout",
     "output_type": "stream",
     "text": [
      "10\n",
      "9\n",
      "8\n",
      "7\n",
      "6\n",
      "5\n",
      "4\n",
      "3\n",
      "2\n",
      "1\n"
     ]
    }
   ],
   "source": [
    "for i in range(10,0,-1):\n",
    "    print(i)"
   ]
  },
  {
   "cell_type": "code",
   "execution_count": 13,
   "metadata": {},
   "outputs": [
    {
     "name": "stdout",
     "output_type": "stream",
     "text": [
      "enter table value5\n",
      "5 * 1 = 5\n",
      "5 * 2 = 10\n",
      "5 * 3 = 15\n",
      "5 * 4 = 20\n",
      "5 * 5 = 25\n",
      "5 * 6 = 30\n",
      "5 * 7 = 35\n",
      "5 * 8 = 40\n",
      "5 * 9 = 45\n",
      "5 * 10 = 50\n"
     ]
    }
   ],
   "source": [
    "# 5 * 1 = 5\n",
    "# 5 * 2 = 10\n",
    "# 5 * 10 = 50\n",
    "t = int(input(\"enter table value\"))\n",
    "for i in range(1,11):\n",
    "    print(t,\"*\",i,\"=\",t*i)"
   ]
  },
  {
   "cell_type": "code",
   "execution_count": 14,
   "metadata": {},
   "outputs": [
    {
     "name": "stdout",
     "output_type": "stream",
     "text": [
      "p\n",
      "y\n",
      "t\n",
      "h\n",
      "o\n",
      "n\n",
      " \n",
      "P\n",
      "r\n",
      "o\n",
      "g\n",
      "r\n",
      "a\n",
      "m\n",
      "m\n",
      "i\n",
      "n\n",
      "g\n"
     ]
    }
   ],
   "source": [
    "s = \"python Programming\"\n",
    "for i in s:\n",
    "    print(i)"
   ]
  },
  {
   "cell_type": "markdown",
   "metadata": {},
   "source": [
    ">1. rows = 4 \n",
    "*\n",
    "* *\n",
    "* * *\n",
    "* * * *\n",
    "\n",
    ">2. Iterate the integers from 1 to 50, for multiplies of 3 print \"Fizz\" and for multiplies of 5 print \"Buzz\" and for multiplies of 3 and 5 print \"FizzBuzz\""
   ]
  },
  {
   "cell_type": "code",
   "execution_count": 15,
   "metadata": {},
   "outputs": [
    {
     "name": "stdout",
     "output_type": "stream",
     "text": [
      "1\n",
      "2\n",
      "3\n",
      "4\n",
      "5\n",
      "6\n",
      "7\n",
      "8\n",
      "9\n",
      "10\n"
     ]
    }
   ],
   "source": [
    "i = 1\n",
    "while i<=10:\n",
    "    print(i)\n",
    "    i += 1   # i = i+1\n",
    "    "
   ]
  },
  {
   "cell_type": "code",
   "execution_count": 16,
   "metadata": {},
   "outputs": [
    {
     "name": "stdout",
     "output_type": "stream",
     "text": [
      "enter start value1\n",
      "enter stop value10\n",
      "55\n"
     ]
    }
   ],
   "source": [
    "start = int(input(\"enter start value\"))\n",
    "stop = int(input(\"enter stop value\"))\n",
    "add = 0\n",
    "while start <= stop:\n",
    "    add += start  # add = add + start\n",
    "    start += 1\n",
    "print(add)"
   ]
  },
  {
   "cell_type": "code",
   "execution_count": 17,
   "metadata": {},
   "outputs": [
    {
     "name": "stdout",
     "output_type": "stream",
     "text": [
      "a\n",
      "l\n",
      "p\n",
      "h\n",
      "a\n",
      "break example\n"
     ]
    }
   ],
   "source": [
    "# break - to stop the execution of statements present after break\n",
    "s = \"alphabet\"\n",
    "for i in s:\n",
    "    if i == \"b\":\n",
    "        break\n",
    "    else:\n",
    "        print(i)\n",
    "print(\"break example\")"
   ]
  },
  {
   "cell_type": "code",
   "execution_count": 18,
   "metadata": {},
   "outputs": [
    {
     "name": "stdout",
     "output_type": "stream",
     "text": [
      "a\n",
      "l\n",
      "p\n",
      "h\n",
      "a\n",
      "e\n",
      "t\n",
      "break example\n"
     ]
    }
   ],
   "source": [
    "# continue - skips the execution of particular iteration\n",
    "s = \"alphabet\"\n",
    "for i in s:\n",
    "    if i == \"b\":\n",
    "        continue\n",
    "    else:\n",
    "        print(i)\n",
    "print(\"break example\")"
   ]
  },
  {
   "cell_type": "code",
   "execution_count": 19,
   "metadata": {},
   "outputs": [
    {
     "name": "stdout",
     "output_type": "stream",
     "text": [
      "iteration 1\n",
      "iteration 2\n",
      "iteration 3\n",
      "while loop terminated\n"
     ]
    }
   ],
   "source": [
    "a = 1\n",
    "b = 1\n",
    "while a<5:\n",
    "    print(\"iteration\",a)\n",
    "    a += 1\n",
    "    b += 1\n",
    "    if b == 4:\n",
    "        break\n",
    "print(\"while loop terminated\")"
   ]
  },
  {
   "cell_type": "code",
   "execution_count": 20,
   "metadata": {},
   "outputs": [
    {
     "name": "stdout",
     "output_type": "stream",
     "text": [
      "enter start value1\n",
      "enter stop value20\n",
      "210\n"
     ]
    }
   ],
   "source": [
    "start = int(input(\"enter start value\"))\n",
    "stop = int(input(\"enter stop value\"))\n",
    "add = 0\n",
    "while start <= stop:\n",
    "    add += start  # add = add + start\n",
    "    start += 1\n",
    "else:\n",
    "    print(add)"
   ]
  },
  {
   "cell_type": "markdown",
   "metadata": {},
   "source": [
    "1. Sum of the digits (123= 1+2+3=6)\n",
    "2. To check whether a number is palindrome or not (121)\n",
    "3. print(\"1.add 2.sub 3. mul\")\n",
    "4. to check whether a number is armstrong number or not (153)"
   ]
  }
 ],
 "metadata": {
  "kernelspec": {
   "display_name": "Python 3",
   "language": "python",
   "name": "python3"
  },
  "language_info": {
   "codemirror_mode": {
    "name": "ipython",
    "version": 3
   },
   "file_extension": ".py",
   "mimetype": "text/x-python",
   "name": "python",
   "nbconvert_exporter": "python",
   "pygments_lexer": "ipython3",
   "version": "3.7.1"
  }
 },
 "nbformat": 4,
 "nbformat_minor": 2
}
