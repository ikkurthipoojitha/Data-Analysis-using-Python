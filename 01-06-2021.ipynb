{
 "cells": [
  {
   "cell_type": "markdown",
   "metadata": {},
   "source": [
    "Functions:\n",
    "----------------\n",
    "Function is a set of statements or block of code to perform a specific task.\n",
    ">1. Predefined functions\n",
    "    - input(),dir(),type(),int(),float(),str(),range(),len(),min(),max(),sum(),abs(),chr(),ord()\n",
    ">2. User defined Functions"
   ]
  },
  {
   "cell_type": "code",
   "execution_count": 1,
   "metadata": {},
   "outputs": [
    {
     "name": "stdout",
     "output_type": "stream",
     "text": [
      "1\n",
      "x\n"
     ]
    }
   ],
   "source": [
    "st = \"Functionexample1\"\n",
    "print(min(st))\n",
    "print(max(st))"
   ]
  },
  {
   "cell_type": "code",
   "execution_count": 2,
   "metadata": {},
   "outputs": [
    {
     "data": {
      "text/plain": [
       "'a'"
      ]
     },
     "execution_count": 2,
     "metadata": {},
     "output_type": "execute_result"
    }
   ],
   "source": [
    "chr(97)"
   ]
  },
  {
   "cell_type": "code",
   "execution_count": 3,
   "metadata": {},
   "outputs": [
    {
     "data": {
      "text/plain": [
       "'A'"
      ]
     },
     "execution_count": 3,
     "metadata": {},
     "output_type": "execute_result"
    }
   ],
   "source": [
    "chr(65)"
   ]
  },
  {
   "cell_type": "code",
   "execution_count": 4,
   "metadata": {},
   "outputs": [
    {
     "data": {
      "text/plain": [
       "49"
      ]
     },
     "execution_count": 4,
     "metadata": {},
     "output_type": "execute_result"
    }
   ],
   "source": [
    "ord('1')"
   ]
  },
  {
   "cell_type": "code",
   "execution_count": 5,
   "metadata": {},
   "outputs": [
    {
     "data": {
      "text/plain": [
       "120"
      ]
     },
     "execution_count": 5,
     "metadata": {},
     "output_type": "execute_result"
    }
   ],
   "source": [
    "ord(\"x\")"
   ]
  },
  {
   "cell_type": "code",
   "execution_count": 6,
   "metadata": {},
   "outputs": [
    {
     "data": {
      "text/plain": [
       "789"
      ]
     },
     "execution_count": 6,
     "metadata": {},
     "output_type": "execute_result"
    }
   ],
   "source": [
    "abs(-789)"
   ]
  },
  {
   "cell_type": "code",
   "execution_count": 7,
   "metadata": {},
   "outputs": [
    {
     "data": {
      "text/plain": [
       "21"
      ]
     },
     "execution_count": 7,
     "metadata": {},
     "output_type": "execute_result"
    }
   ],
   "source": [
    "li = [1,2,3,4,5,6]\n",
    "sum(li)"
   ]
  },
  {
   "cell_type": "code",
   "execution_count": null,
   "metadata": {},
   "outputs": [],
   "source": [
    "#function syntax\n",
    "def functionName(args1,args2):\n",
    "    statements1\n",
    "    statements2\n",
    "    statementsn\n",
    "    \n",
    "functionName(args1,args2)"
   ]
  },
  {
   "cell_type": "code",
   "execution_count": 9,
   "metadata": {},
   "outputs": [
    {
     "name": "stdout",
     "output_type": "stream",
     "text": [
      "enter a valuefunction\n",
      "function\n",
      "second print statement\n"
     ]
    }
   ],
   "source": [
    "def Example(arg1):\n",
    "    print(arg1)\n",
    "    print(\"second print statement\")\n",
    "    \n",
    "m = input(\"enter a value\")\n",
    "Example(m)"
   ]
  },
  {
   "cell_type": "code",
   "execution_count": 10,
   "metadata": {},
   "outputs": [
    {
     "name": "stdout",
     "output_type": "stream",
     "text": [
      "enter a msgexample\n"
     ]
    },
    {
     "data": {
      "text/plain": [
       "'example'"
      ]
     },
     "execution_count": 10,
     "metadata": {},
     "output_type": "execute_result"
    }
   ],
   "source": [
    "def Example1(arg):\n",
    "    return arg\n",
    "    print(\"this line doesnt print\")\n",
    "    \n",
    "m1 = input(\"enter a msg\")\n",
    "Example1(m1)"
   ]
  },
  {
   "cell_type": "code",
   "execution_count": 11,
   "metadata": {},
   "outputs": [
    {
     "name": "stdout",
     "output_type": "stream",
     "text": [
      "enter a value12\n",
      "enter b value5\n"
     ]
    },
    {
     "data": {
      "text/plain": [
       "17"
      ]
     },
     "execution_count": 11,
     "metadata": {},
     "output_type": "execute_result"
    }
   ],
   "source": [
    "def add(a,b):\n",
    "    return a+b\n",
    "    \n",
    "a = int(input(\"enter a value\"))\n",
    "b = int(input(\"enter b value\"))\n",
    "add(a,b)"
   ]
  },
  {
   "cell_type": "code",
   "execution_count": 12,
   "metadata": {},
   "outputs": [
    {
     "name": "stdout",
     "output_type": "stream",
     "text": [
      "enter a value34\n",
      "enter b value87\n"
     ]
    },
    {
     "data": {
      "text/plain": [
       "121"
      ]
     },
     "execution_count": 12,
     "metadata": {},
     "output_type": "execute_result"
    }
   ],
   "source": [
    "add(int(input(\"enter a value\")),int(input(\"enter b value\")))"
   ]
  },
  {
   "cell_type": "code",
   "execution_count": 13,
   "metadata": {},
   "outputs": [
    {
     "data": {
      "text/plain": [
       "148"
      ]
     },
     "execution_count": 13,
     "metadata": {},
     "output_type": "execute_result"
    }
   ],
   "source": [
    "add(67,81)"
   ]
  },
  {
   "cell_type": "markdown",
   "metadata": {},
   "source": [
    "#### Types of Arguments\n",
    ">1. Required Arguments\n",
    "    - the number of arguments in the function call should match with the number of arguments present in the function definition.\n",
    "    \n",
    ">2. Keyword Arguments\n",
    "    - when we use keyword arguments in a function call, the caller identifies the arguments by the parameter name and python interpreter is able to use the keywords provided to match the values with parameters.\n",
    "    \n",
    ">3. Default Arguments\n",
    "    - Default argument is an argument that accepts a default value from function definition if a value is not provided in the function call.\n",
    "    \n",
    ">4. Variable Length Arguments\n",
    "    - Instead of processing a function for more arguments than you specified whiiile defing the function. An astriek(*) is placed preceeding to the variable name which hols all the values in a tuple."
   ]
  },
  {
   "cell_type": "code",
   "execution_count": 16,
   "metadata": {},
   "outputs": [
    {
     "name": "stdout",
     "output_type": "stream",
     "text": [
      "enter a value12\n",
      "enter b value4\n"
     ]
    },
    {
     "data": {
      "text/plain": [
       "16"
      ]
     },
     "execution_count": 16,
     "metadata": {},
     "output_type": "execute_result"
    }
   ],
   "source": [
    "# Required arguments\n",
    "def add(a,b):\n",
    "    return a+b\n",
    "    \n",
    "a = int(input(\"enter a value\"))\n",
    "b = int(input(\"enter b value\"))\n",
    "add(2,5)"
   ]
  },
  {
   "cell_type": "code",
   "execution_count": 18,
   "metadata": {},
   "outputs": [
    {
     "name": "stdout",
     "output_type": "stream",
     "text": [
      "Sai bearing a rollno 1234 in branch cse\n"
     ]
    }
   ],
   "source": [
    "# keyword arguments\n",
    "def student(name, rollno, branch):\n",
    "    print(name+ \" bearing a rollno \" +rollno+\" in branch \"+branch)\n",
    "    \n",
    "student(rollno=\"1234\",branch=\"cse\",name = \"Sai\")"
   ]
  },
  {
   "cell_type": "code",
   "execution_count": 21,
   "metadata": {},
   "outputs": [],
   "source": [
    "# Default arguments\n",
    "def defaultArgs(a,b=1,c=67.8):\n",
    "    print(a)\n",
    "    print(b,c)\n",
    "    print()"
   ]
  },
  {
   "cell_type": "code",
   "execution_count": 22,
   "metadata": {},
   "outputs": [
    {
     "name": "stdout",
     "output_type": "stream",
     "text": [
      "12\n",
      "1 67.8\n",
      "\n",
      "1\n",
      "2 3\n",
      "\n",
      "145\n",
      "78 67.8\n",
      "\n"
     ]
    }
   ],
   "source": [
    "defaultArgs(12)\n",
    "defaultArgs(1,2,3)\n",
    "defaultArgs(145,78)"
   ]
  },
  {
   "cell_type": "code",
   "execution_count": 26,
   "metadata": {},
   "outputs": [
    {
     "name": "stdout",
     "output_type": "stream",
     "text": [
      "1\n",
      "(2, 3, 4, 5, 6, 7, 98.6, 'python', 'variable', 567345, 34, 67, 87, 23, 'a', 'b')\n"
     ]
    }
   ],
   "source": [
    "# variable length arguments\n",
    "def Varargs(a,*b):\n",
    "    print(a)\n",
    "    print(b)\n",
    "    #print(c)\n",
    "    \n",
    "Varargs(1,2,3,4,5,6,7,98.6,\"python\",\"variable\",567345,34,67,87,23,\"a\",\"b\")"
   ]
  },
  {
   "cell_type": "code",
   "execution_count": 28,
   "metadata": {},
   "outputs": [
    {
     "name": "stdout",
     "output_type": "stream",
     "text": [
      "enter n value6\n"
     ]
    },
    {
     "data": {
      "text/plain": [
       "720"
      ]
     },
     "execution_count": 28,
     "metadata": {},
     "output_type": "execute_result"
    }
   ],
   "source": [
    "# without Recursion\n",
    "def factorial(n):\n",
    "    fact = 1\n",
    "    for i in range(1,n+1):\n",
    "        fact *= i \n",
    "    return fact\n",
    "    \n",
    "factorial(int(input(\"enter n value\")))"
   ]
  },
  {
   "cell_type": "markdown",
   "metadata": {},
   "source": [
    ">1. Funtion to find the average of cubes of all the even numbers within a given range (ul,ll) both are inclusive\n",
    ">2. Function to generate the list of factors of a given number\n",
    ">3. Function to check whether a number is prime or not"
   ]
  }
 ],
 "metadata": {
  "kernelspec": {
   "display_name": "Python 3",
   "language": "python",
   "name": "python3"
  },
  "language_info": {
   "codemirror_mode": {
    "name": "ipython",
    "version": 3
   },
   "file_extension": ".py",
   "mimetype": "text/x-python",
   "name": "python",
   "nbconvert_exporter": "python",
   "pygments_lexer": "ipython3",
   "version": "3.7.1"
  }
 },
 "nbformat": 4,
 "nbformat_minor": 2
}
