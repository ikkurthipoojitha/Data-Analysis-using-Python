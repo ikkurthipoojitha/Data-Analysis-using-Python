{
 "cells": [
  {
   "cell_type": "markdown",
   "metadata": {},
   "source": [
    "Regular Expression:\n",
    "--------------------------------\n",
    "- A regular expression is a sequence of characters that specifies a search pattern.\n",
    "- import re\n",
    "- Regex or re "
   ]
  },
  {
   "cell_type": "code",
   "execution_count": 1,
   "metadata": {},
   "outputs": [],
   "source": [
    "import re"
   ]
  },
  {
   "cell_type": "code",
   "execution_count": 11,
   "metadata": {},
   "outputs": [
    {
     "data": {
      "text/plain": [
       "<re.Match object; span=(0, 6), match='python'>"
      ]
     },
     "execution_count": 11,
     "metadata": {},
     "output_type": "execute_result"
    }
   ],
   "source": [
    "re.match(\"python\",\"python\")"
   ]
  },
  {
   "cell_type": "code",
   "execution_count": 3,
   "metadata": {},
   "outputs": [],
   "source": [
    "re.match(\"o\",\"python\")"
   ]
  },
  {
   "cell_type": "code",
   "execution_count": 8,
   "metadata": {},
   "outputs": [
    {
     "data": {
      "text/plain": [
       "<re.Match object; span=(3, 5), match='ho'>"
      ]
     },
     "execution_count": 8,
     "metadata": {},
     "output_type": "execute_result"
    }
   ],
   "source": [
    "re.search(\"ho\",\"python\")"
   ]
  },
  {
   "cell_type": "code",
   "execution_count": 6,
   "metadata": {},
   "outputs": [
    {
     "data": {
      "text/plain": [
       "<re.Match object; span=(1, 2), match='o'>"
      ]
     },
     "execution_count": 6,
     "metadata": {},
     "output_type": "execute_result"
    }
   ],
   "source": [
    "re.search(\"o\",\"notebook\")"
   ]
  },
  {
   "cell_type": "code",
   "execution_count": 7,
   "metadata": {},
   "outputs": [
    {
     "data": {
      "text/plain": [
       "['o', 'o', 'o']"
      ]
     },
     "execution_count": 7,
     "metadata": {},
     "output_type": "execute_result"
    }
   ],
   "source": [
    "re.findall(\"o\",\"notebook\")"
   ]
  },
  {
   "cell_type": "code",
   "execution_count": 16,
   "metadata": {},
   "outputs": [
    {
     "name": "stdout",
     "output_type": "stream",
     "text": [
      "enter a nameP%ghbn\n",
      "accepted\n"
     ]
    }
   ],
   "source": [
    "#Sirisha - 7 \n",
    "# {} - range \n",
    "# 1. first character upper case\n",
    "# 2. length of string\n",
    "# 3. allows alphabet\n",
    "\n",
    "\n",
    "pattern = \"^[A-Z][a-z@&%]*$\"\n",
    "n = input(\"enter a name\")\n",
    "if re.match(pattern,n):\n",
    "    print(\"accepted\")\n",
    "else:\n",
    "    print(\"try another\")"
   ]
  },
  {
   "cell_type": "markdown",
   "metadata": {},
   "source": [
    "#### Phone number validation\n",
    "- 10 digits\n",
    "     - 9876543210\n",
    "     - allows only digits\n",
    "     - starts from 6-9 and length is 10 digits\n",
    "     - ^[6-9][0-9]{9}\n",
    "- 11 digits\n",
    "    - 09876543210\n",
    "    - ^[0][6-9][0-9]{9} \n",
    "- 12 digits\n",
    "    - +91 9876543210\n",
    "    - ^[+][9][1][6-9][0-9]{9}"
   ]
  },
  {
   "cell_type": "code",
   "execution_count": 20,
   "metadata": {},
   "outputs": [
    {
     "name": "stdout",
     "output_type": "stream",
     "text": [
      "enter a phone number+9178906543\n",
      "invalid phone number\n"
     ]
    }
   ],
   "source": [
    "pattern = \"^[6-9][0-9]{9}$|^[0][6-9][0-9]{9}$|^[+][9][1][6-9][0-9]{9}$\"\n",
    "n = input(\"enter a phone number\")\n",
    "if re.match(pattern,n):\n",
    "    print(\"accepted\")\n",
    "else:\n",
    "    print(\"invalid phone number\")"
   ]
  },
  {
   "cell_type": "markdown",
   "metadata": {},
   "source": [
    "Email Validation:\n",
    "-------------------------\n",
    "- abcdef.h@gmail.com\n",
    "- username\n",
    "     - abcdef.\n",
    "     - Accepts all lower case characters, digits, . and _\n",
    "     - starts with digits or alphabets\n",
    "     - length ranges from 8 to 32\n",
    "     - atleast one character should be present after . or _\n",
    "     - ^[a-z0-9][a-z0-9._]{6,30}[a-z0-9]*\n",
    "- domain\n",
    "    - gmail\n",
    "    - allows alphabet and digits\n",
    "    - no special characters are allowed\n",
    "    - range starting from 5 and ending at 12\n",
    "    - [a-z0-9]{5,12}\n",
    "- extension\n",
    "    - com\n",
    "    - allows alphabets\n",
    "    - no special characters or digits are allowed\n",
    "    - range (2,5)\n",
    "    - [a-z]{2,5}"
   ]
  },
  {
   "cell_type": "code",
   "execution_count": 5,
   "metadata": {},
   "outputs": [
    {
     "name": "stdout",
     "output_type": "stream",
     "text": [
      "enter a mail id:abcdef.h@gmail.com\n",
      "accepted\n"
     ]
    }
   ],
   "source": [
    "import re\n",
    "pattern = \"^[a-z0-9][a-z0-9._]{7,31}[@][a-z0-9]{5,12}[.][a-z]{2,5}\"\n",
    "n = input(\"enter a mail id:\")\n",
    "if re.match(pattern,n):\n",
    "    print(\"accepted\")\n",
    "else:\n",
    "    print(\"invalid mail\")"
   ]
  },
  {
   "cell_type": "code",
   "execution_count": null,
   "metadata": {},
   "outputs": [],
   "source": []
  },
  {
   "cell_type": "code",
   "execution_count": null,
   "metadata": {},
   "outputs": [],
   "source": []
  }
 ],
 "metadata": {
  "kernelspec": {
   "display_name": "Python 3",
   "language": "python",
   "name": "python3"
  },
  "language_info": {
   "codemirror_mode": {
    "name": "ipython",
    "version": 3
   },
   "file_extension": ".py",
   "mimetype": "text/x-python",
   "name": "python",
   "nbconvert_exporter": "python",
   "pygments_lexer": "ipython3",
   "version": "3.7.1"
  }
 },
 "nbformat": 4,
 "nbformat_minor": 2
}
