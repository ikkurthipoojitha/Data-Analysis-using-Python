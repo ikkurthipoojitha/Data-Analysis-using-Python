{
 "cells": [
  {
   "cell_type": "markdown",
   "metadata": {},
   "source": [
    "Data Preprocessing with scikit-learn:\n",
    "-----------------------------------------------------\n",
    "- Data Preprocessing is a technique that is used to convert the raw data into a clean data set\n",
    "### Steps:\n",
    "- loading the data (reading files)\n",
    "- exploring the data (summarizing)\n",
    "- cleaning data (handling missing data)\n",
    "- transforming data \n",
    "    - this scikit-learn library includes tools for data preprocessing and data mining"
   ]
  },
  {
   "cell_type": "markdown",
   "metadata": {},
   "source": [
    "Data Imputation:\n",
    "-------------------------\n",
    "- if the dataset is missing too many values, we just dont use it\n",
    "- if onlya few of the values are missing, we can perform data imputation to substitute the missing data with someother value(s).\n",
    "- Different methods for data imputation are\n",
    "    - using the mean value\n",
    "    - using the median value\n",
    "    - using the most frequent value\n",
    "    - filling the missing value with a constant"
   ]
  },
  {
   "cell_type": "markdown",
   "metadata": {},
   "source": [
    "Feature Scaling:\n",
    "------------------------\n",
    ">1. Standardizing data\n",
    "- example: distance (cm,m,km,miles)\n",
    "- Data scientists converts the data into a standard format to make it easier to understand\n",
    "- The standard format refers to data that has 0 mean and unit variance(standard deviation=1), and the process of converting data into this format is called  data standardization.\n",
    "- improves the performance of models\n",
    "- It rescales the data to have mean as 0 and variance as 1\n",
    "- formula for this x-mean/standard deviation\n",
    "\n",
    ">2. Data Range\n",
    "- Scale data by compressing it into a fixed range\n",
    "- One of the biggest use cases for compressing data into the range[0,1]\n",
    "- MinMaxScaler\n",
    "\n",
    ">3. Normalizing Data\n",
    "- wants to scale the individual data observations(i.e. rows)\n",
    "- Used in data mining and classification related problems\n",
    "- When clustering data we need to apply L2 Normalization\n",
    "- L2 normalization of a row is just the square root of the sum of squared values for the row\n",
    "\n",
    ">4. Robust Scaling\n",
    "- Deals with outliers(data point that is significantly further away from the other data points)\n",
    "- Robustly scale the data i.e. avoid being affected by outliers\n",
    "- Scaling by using data's median and Interquartile range(IQR)\n",
    "- Here mean affected but median remains same\n",
    "- subract the median from each data value then scale to the IQR"
   ]
  },
  {
   "cell_type": "code",
   "execution_count": 1,
   "metadata": {},
   "outputs": [],
   "source": [
    "import numpy as np\n",
    "import pandas as pd\n",
    "from sklearn.impute import SimpleImputer\n",
    "# ! pip install sklearn"
   ]
  },
  {
   "cell_type": "code",
   "execution_count": 2,
   "metadata": {},
   "outputs": [
    {
     "data": {
      "text/html": [
       "<div>\n",
       "<style scoped>\n",
       "    .dataframe tbody tr th:only-of-type {\n",
       "        vertical-align: middle;\n",
       "    }\n",
       "\n",
       "    .dataframe tbody tr th {\n",
       "        vertical-align: top;\n",
       "    }\n",
       "\n",
       "    .dataframe thead th {\n",
       "        text-align: right;\n",
       "    }\n",
       "</style>\n",
       "<table border=\"1\" class=\"dataframe\">\n",
       "  <thead>\n",
       "    <tr style=\"text-align: right;\">\n",
       "      <th></th>\n",
       "      <th>a</th>\n",
       "      <th>b</th>\n",
       "      <th>c</th>\n",
       "    </tr>\n",
       "  </thead>\n",
       "  <tbody>\n",
       "    <tr>\n",
       "      <th>1</th>\n",
       "      <td>12.0</td>\n",
       "      <td>90.0</td>\n",
       "      <td>13.0</td>\n",
       "    </tr>\n",
       "    <tr>\n",
       "      <th>2</th>\n",
       "      <td>34.0</td>\n",
       "      <td>NaN</td>\n",
       "      <td>45.0</td>\n",
       "    </tr>\n",
       "    <tr>\n",
       "      <th>3</th>\n",
       "      <td>45.0</td>\n",
       "      <td>89.0</td>\n",
       "      <td>35.0</td>\n",
       "    </tr>\n",
       "    <tr>\n",
       "      <th>4</th>\n",
       "      <td>NaN</td>\n",
       "      <td>78.0</td>\n",
       "      <td>35.0</td>\n",
       "    </tr>\n",
       "    <tr>\n",
       "      <th>5</th>\n",
       "      <td>56.0</td>\n",
       "      <td>89.0</td>\n",
       "      <td>NaN</td>\n",
       "    </tr>\n",
       "  </tbody>\n",
       "</table>\n",
       "</div>"
      ],
      "text/plain": [
       "      a     b     c\n",
       "1  12.0  90.0  13.0\n",
       "2  34.0   NaN  45.0\n",
       "3  45.0  89.0  35.0\n",
       "4   NaN  78.0  35.0\n",
       "5  56.0  89.0   NaN"
      ]
     },
     "execution_count": 2,
     "metadata": {},
     "output_type": "execute_result"
    }
   ],
   "source": [
    "d = { \"a\":pd.Series([12,34,45,np.nan,56],index=[1,2,3,4,5]),\n",
    "     \"b\": pd.Series([90,89,78,89],index=[1,3,4,5]),\n",
    "     \"c\":pd.Series([13,45,35,35],index=[1,2,3,4])\n",
    "    }\n",
    "df = pd.DataFrame(d)\n",
    "df"
   ]
  },
  {
   "cell_type": "code",
   "execution_count": 3,
   "metadata": {},
   "outputs": [
    {
     "data": {
      "text/plain": [
       "array([[12. , 90. , 13. ],\n",
       "       [34. , 89. , 45. ],\n",
       "       [45. , 89. , 35. ],\n",
       "       [39.5, 78. , 35. ],\n",
       "       [56. , 89. , 35. ]])"
      ]
     },
     "execution_count": 3,
     "metadata": {},
     "output_type": "execute_result"
    }
   ],
   "source": [
    "si = SimpleImputer(strategy = \"median\")\n",
    "si.fit_transform(df)"
   ]
  },
  {
   "cell_type": "code",
   "execution_count": 4,
   "metadata": {},
   "outputs": [
    {
     "data": {
      "text/plain": [
       "a    39.5\n",
       "b    89.0\n",
       "c    35.0\n",
       "dtype: float64"
      ]
     },
     "execution_count": 4,
     "metadata": {},
     "output_type": "execute_result"
    }
   ],
   "source": [
    "df.median()"
   ]
  },
  {
   "cell_type": "code",
   "execution_count": 5,
   "metadata": {},
   "outputs": [
    {
     "data": {
      "text/plain": [
       "array([[12.  , 90.  , 13.  ],\n",
       "       [34.  , 86.5 , 45.  ],\n",
       "       [45.  , 89.  , 35.  ],\n",
       "       [36.75, 78.  , 35.  ],\n",
       "       [56.  , 89.  , 32.  ]])"
      ]
     },
     "execution_count": 5,
     "metadata": {},
     "output_type": "execute_result"
    }
   ],
   "source": [
    "si = SimpleImputer(strategy = \"mean\")\n",
    "si.fit_transform(df)"
   ]
  },
  {
   "cell_type": "code",
   "execution_count": 6,
   "metadata": {},
   "outputs": [
    {
     "data": {
      "text/plain": [
       "a    36.75\n",
       "b    86.50\n",
       "c    32.00\n",
       "dtype: float64"
      ]
     },
     "execution_count": 6,
     "metadata": {},
     "output_type": "execute_result"
    }
   ],
   "source": [
    "df.mean()"
   ]
  },
  {
   "cell_type": "code",
   "execution_count": 7,
   "metadata": {},
   "outputs": [
    {
     "data": {
      "text/plain": [
       "array([[12., 90., 13.],\n",
       "       [34., 89., 45.],\n",
       "       [45., 89., 35.],\n",
       "       [12., 78., 35.],\n",
       "       [56., 89., 35.]])"
      ]
     },
     "execution_count": 7,
     "metadata": {},
     "output_type": "execute_result"
    }
   ],
   "source": [
    "si = SimpleImputer(strategy = \"most_frequent\")\n",
    "si.fit_transform(df)"
   ]
  },
  {
   "cell_type": "code",
   "execution_count": 8,
   "metadata": {},
   "outputs": [
    {
     "data": {
      "text/plain": [
       "array([[12., 90., 13.],\n",
       "       [34., -1., 45.],\n",
       "       [45., 89., 35.],\n",
       "       [-1., 78., 35.],\n",
       "       [56., 89., -1.]])"
      ]
     },
     "execution_count": 8,
     "metadata": {},
     "output_type": "execute_result"
    }
   ],
   "source": [
    "si = SimpleImputer(strategy = \"constant\",fill_value = -1)\n",
    "si.fit_transform(df)"
   ]
  },
  {
   "cell_type": "markdown",
   "metadata": {},
   "source": [
    "1. Standardizing data"
   ]
  },
  {
   "cell_type": "code",
   "execution_count": 12,
   "metadata": {},
   "outputs": [
    {
     "data": {
      "text/html": [
       "<div>\n",
       "<style scoped>\n",
       "    .dataframe tbody tr th:only-of-type {\n",
       "        vertical-align: middle;\n",
       "    }\n",
       "\n",
       "    .dataframe tbody tr th {\n",
       "        vertical-align: top;\n",
       "    }\n",
       "\n",
       "    .dataframe thead th {\n",
       "        text-align: right;\n",
       "    }\n",
       "</style>\n",
       "<table border=\"1\" class=\"dataframe\">\n",
       "  <thead>\n",
       "    <tr style=\"text-align: right;\">\n",
       "      <th></th>\n",
       "      <th>TV</th>\n",
       "      <th>radio</th>\n",
       "      <th>newspaper</th>\n",
       "      <th>sales</th>\n",
       "    </tr>\n",
       "  </thead>\n",
       "  <tbody>\n",
       "    <tr>\n",
       "      <th>0</th>\n",
       "      <td>230.1</td>\n",
       "      <td>37.8</td>\n",
       "      <td>69.2</td>\n",
       "      <td>22.1</td>\n",
       "    </tr>\n",
       "    <tr>\n",
       "      <th>1</th>\n",
       "      <td>44.5</td>\n",
       "      <td>39.3</td>\n",
       "      <td>45.1</td>\n",
       "      <td>10.4</td>\n",
       "    </tr>\n",
       "    <tr>\n",
       "      <th>2</th>\n",
       "      <td>17.2</td>\n",
       "      <td>45.9</td>\n",
       "      <td>69.3</td>\n",
       "      <td>9.3</td>\n",
       "    </tr>\n",
       "    <tr>\n",
       "      <th>3</th>\n",
       "      <td>151.5</td>\n",
       "      <td>41.3</td>\n",
       "      <td>58.5</td>\n",
       "      <td>18.5</td>\n",
       "    </tr>\n",
       "    <tr>\n",
       "      <th>4</th>\n",
       "      <td>180.8</td>\n",
       "      <td>10.8</td>\n",
       "      <td>58.4</td>\n",
       "      <td>12.9</td>\n",
       "    </tr>\n",
       "  </tbody>\n",
       "</table>\n",
       "</div>"
      ],
      "text/plain": [
       "      TV  radio  newspaper  sales\n",
       "0  230.1   37.8       69.2   22.1\n",
       "1   44.5   39.3       45.1   10.4\n",
       "2   17.2   45.9       69.3    9.3\n",
       "3  151.5   41.3       58.5   18.5\n",
       "4  180.8   10.8       58.4   12.9"
      ]
     },
     "execution_count": 12,
     "metadata": {},
     "output_type": "execute_result"
    }
   ],
   "source": [
    "adv = pd.read_csv(\"https://raw.githubusercontent.com/ikkurthipoojitha/Data-Analysis-using-Python/main/Datasets/Advertising.csv\")\n",
    "adv.head()"
   ]
  },
  {
   "cell_type": "code",
   "execution_count": 14,
   "metadata": {},
   "outputs": [
    {
     "data": {
      "image/png": "[encoded data removed]",
      "text/plain": [
       "<Figure size 432x288 with 1 Axes>"
      ]
     },
     "metadata": {
      "needs_background": "light"
     },
     "output_type": "display_data"
    }
   ],
   "source": [
    "import seaborn as sns\n",
    "import matplotlib.pyplot as plt\n",
    "sns.kdeplot(adv[\"TV\"])\n",
    "sns.kdeplot(adv[\"radio\"])\n",
    "sns.kdeplot(adv[\"newspaper\"])\n",
    "plt.show()"
   ]
  },
  {
   "cell_type": "code",
   "execution_count": 15,
   "metadata": {},
   "outputs": [
    {
     "data": {
      "text/plain": [
       "0.9674245973763037"
      ]
     },
     "execution_count": 15,
     "metadata": {},
     "output_type": "execute_result"
    }
   ],
   "source": [
    "# std_data  = (x - mean(x))/std(x)\n",
    "(adv[\"TV\"][0]-adv[\"TV\"].mean()) / adv[\"TV\"].std()"
   ]
  },
  {
   "cell_type": "code",
   "execution_count": 16,
   "metadata": {
    "collapsed": true
   },
   "outputs": [
    {
     "data": {
      "text/plain": [
       "array([[ 9.69852266e-01,  9.81522472e-01,  1.77894547e+00,\n",
       "         1.55205313e+00],\n",
       "       [-1.19737623e+00,  1.08280781e+00,  6.69578760e-01,\n",
       "        -6.96046111e-01],\n",
       "       [-1.51615499e+00,  1.52846331e+00,  1.78354865e+00,\n",
       "        -9.07405869e-01],\n",
       "       [ 5.20496822e-02,  1.21785493e+00,  1.28640506e+00,\n",
       "         8.60330287e-01],\n",
       "       [ 3.94182198e-01, -8.41613655e-01,  1.28180188e+00,\n",
       "        -2.15683025e-01],\n",
       "       [-1.61540845e+00,  1.73103399e+00,  2.04592999e+00,\n",
       "        -1.31091086e+00],\n",
       "       [-1.04557682e+00,  6.43904671e-01, -3.24708413e-01,\n",
       "        -4.27042783e-01],\n",
       "       [-3.13436589e-01, -2.47406325e-01, -8.72486994e-01,\n",
       "        -1.58039455e-01],\n",
       "       [-1.61657614e+00, -1.42906863e+00, -1.36042422e+00,\n",
       "        -1.77205942e+00],\n",
       "       [ 6.16042873e-01, -1.39530685e+00, -4.30581584e-01,\n",
       "        -6.57617064e-01],\n",
       "       [-9.45155670e-01, -1.17923146e+00, -2.92486143e-01,\n",
       "        -1.04190753e+00],\n",
       "       [ 7.90028350e-01,  4.96973404e-02, -1.22232878e+00,\n",
       "         6.48970529e-01],\n",
       "       [-1.43908760e+00,  7.99208859e-01,  1.62704048e+00,\n",
       "        -9.26620392e-01],\n",
       "       [-5.78501712e-01, -1.05768905e+00, -1.07502697e+00,\n",
       "        -8.30547775e-01],\n",
       "       [ 6.66253447e-01,  6.50657027e-01,  7.11007392e-01,\n",
       "         9.56402904e-01],\n",
       "       [ 5.64664612e-01,  1.65000572e+00,  1.02862691e+00,\n",
       "         1.60969670e+00],\n",
       "       [-9.25304978e-01,  9.00494200e-01,  3.84117072e+00,\n",
       "        -2.92541119e-01],\n",
       "       [ 1.56887609e+00,  1.10306488e+00,  1.16211917e+00,\n",
       "         1.99398717e+00],\n",
       "       [-9.08957349e-01, -1.86635121e-01, -5.64073843e-01,\n",
       "        -5.23115400e-01],\n",
       "       [ 3.00679600e-03,  4.29449843e-02, -5.27248393e-01,\n",
       "         1.10963873e-01],\n",
       "       [ 8.33232798e-01,  2.99534513e-01,  1.05164281e+00,\n",
       "         7.64257669e-01],\n",
       "       [ 1.05509347e+00, -1.22649795e+00, -3.24708413e-01,\n",
       "        -2.92541119e-01],\n",
       "       [-1.56286250e+00, -4.97243498e-01,  8.76721921e-01,\n",
       "        -1.61834324e+00],\n",
       "       [ 9.48833887e-01, -4.29719938e-01, -2.00422516e-01,\n",
       "         2.83894584e-01],\n",
       "       [-9.89527805e-01, -7.20071247e-01, -5.64073843e-01,\n",
       "        -8.30547775e-01],\n",
       "       [ 1.35285385e+00, -1.33453565e+00, -5.08835667e-01,\n",
       "        -3.88613736e-01],\n",
       "       [-4.83714657e-02,  4.07572210e-01, -8.26455181e-01,\n",
       "         1.87821967e-01],\n",
       "       [ 1.08662104e+00, -4.43224650e-01, -3.52327501e-01,\n",
       "         3.60752677e-01],\n",
       "       [ 1.18820988e+00,  2.59020377e-01, -3.52327501e-01,\n",
       "         9.37188380e-01],\n",
       "       [-8.92609721e-01, -4.90491142e-01,  4.71641962e-01,\n",
       "        -6.76831588e-01],\n",
       "       [ 1.70316018e+00,  3.40048650e-01,  5.82118314e-01,\n",
       "         1.41755147e+00],\n",
       "       [-3.98677796e-01, -3.95958157e-01,  3.70371972e-01,\n",
       "        -4.07828260e-01],\n",
       "       [-5.82004775e-01, -1.46958277e+00, -2.55016247e-02,\n",
       "        -8.49762299e-01],\n",
       "       [ 1.38438142e+00, -2.20396901e-01, -1.39264649e+00,\n",
       "         6.48970529e-01],\n",
       "       [-5.99520091e-01, -1.47633512e+00, -1.06582061e+00,\n",
       "        -8.68976822e-01],\n",
       "       [ 1.67747105e+00, -1.29402151e+00, -1.01518562e+00,\n",
       "        -2.34897549e-01],\n",
       "       [ 1.39956136e+00,  1.38666383e+00, -1.17629696e+00,\n",
       "         2.18613240e+00],\n",
       "       [-8.44734522e-01,  1.76479577e+00,  6.97197848e-01,\n",
       "         1.30178396e-01],\n",
       "       [-1.21372386e+00,  2.32010953e-01,  2.09260624e-01,\n",
       "        -7.53689682e-01],\n",
       "       [ 9.45330823e-01,  9.74770116e-01,  6.65620024e-02,\n",
       "         1.43676599e+00],\n",
       "       [ 6.47570443e-01, -6.50927121e-02,  4.81492770e-02,\n",
       "         4.95254341e-01],\n",
       "       [ 3.49810063e-01,  6.84418807e-01,  3.74975153e-01,\n",
       "         5.91326959e-01],\n",
       "       [ 1.71133400e+00,  2.99534513e-01, -1.32359877e+00,\n",
       "         1.28304980e+00],\n",
       "       [ 6.98948705e-01, -1.00367020e+00, -1.91216154e-01,\n",
       "        -2.15683025e-01],\n",
       "       [-1.42390765e+00,  1.64487393e-01,  5.86721496e-01,\n",
       "        -1.06112206e+00],\n",
       "       [ 3.27623995e-01, -5.15880000e-02,  4.35460956e-02,\n",
       "         1.68607443e-01],\n",
       "       [-6.69581357e-01, -9.02384859e-01,  2.36879713e-01,\n",
       "        -6.57617064e-01],\n",
       "       [ 1.08428567e+00,  1.23135965e+00, -5.54867481e-01,\n",
       "         1.76341289e+00],\n",
       "       [ 9.35989321e-01, -5.03995854e-01,  8.90531465e-01,\n",
       "         1.49392920e-01],\n",
       "       [-9.35814168e-01, -7.80842451e-01,  2.87514708e-01,\n",
       "        -8.30547775e-01],\n",
       "       [ 6.16042873e-01, -1.36154507e+00,  1.86244718e-01,\n",
       "        -5.03900877e-01],\n",
       "       [-5.44638766e-01, -9.22641928e-01, -1.24074150e+00,\n",
       "        -6.38402541e-01],\n",
       "       [ 8.09879042e-01,  1.24486436e+00,  4.16403786e-01,\n",
       "         1.64812575e+00],\n",
       "       [ 4.15200577e-01,  1.54872038e+00,  1.29561142e+00,\n",
       "         1.37912242e+00],\n",
       "       [ 1.35051848e+00,  3.73810430e-01, -6.74550196e-01,\n",
       "         1.18697718e+00],\n",
       "       [ 6.05533683e-01,  1.76479577e+00,  1.35545278e+00,\n",
       "         1.85948550e+00],\n",
       "       [-1.63175608e+00,  3.26543937e-01,  4.99261050e-01,\n",
       "        -1.63755776e+00],\n",
       "       [-1.26606546e-01, -2.74415749e-01, -6.42327927e-01,\n",
       "        -1.58039455e-01],\n",
       "       [ 7.44488528e-01,  1.77830048e+00,  3.28943340e-01,\n",
       "         1.87870003e+00],\n",
       "       [ 7.43320840e-01,  4.21076922e-01, -9.78360166e-01,\n",
       "         8.41115763e-01],\n",
       "       [-1.09228433e+00, -1.43582099e+00, -4.21375221e-01,\n",
       "        -1.13798015e+00],\n",
       "       [ 1.33417085e+00,  1.31238792e+00,  1.11148417e+00,\n",
       "         1.95555812e+00],\n",
       "       [ 1.07727954e+00, -5.24252922e-01, -1.49787521e-01,\n",
       "         3.22323631e-01],\n",
       "       [-5.17781948e-01,  4.27829278e-01, -1.01978880e+00,\n",
       "        -4.32326777e-03],\n",
       "       [-1.86158622e-01,  1.31914027e+00, -7.61366196e-02,\n",
       "         7.64257669e-01],\n",
       "       [-9.11292725e-01, -9.42898996e-01, -1.36502740e+00,\n",
       "        -9.07405869e-01],\n",
       "       [-1.34917564e+00,  9.02114765e-02, -1.30518604e+00,\n",
       "        -8.68976822e-01],\n",
       "       [-9.04082253e-02, -5.91776482e-01, -9.36931533e-01,\n",
       "        -1.19610408e-01],\n",
       "       [ 1.05509347e+00,  2.86029801e-01, -9.00106083e-01,\n",
       "         9.37188380e-01],\n",
       "       [ 8.14549794e-01,  1.39341619e+00, -1.54390703e-01,\n",
       "         1.59048218e+00],\n",
       "       [ 6.07869059e-01,  4.95352838e-01,  3.74975153e-01,\n",
       "         8.21901240e-01],\n",
       "       [-4.34876116e-01, -6.05281194e-01,  5.27524584e-02,\n",
       "        -3.11755643e-01],\n",
       "       [-1.40405696e+00,  6.57409383e-01, -5.18042030e-01,\n",
       "        -1.00347849e+00],\n",
       "       [-2.06009314e-01, -1.18598381e+00,  3.43397329e-02,\n",
       "        -5.80758971e-01],\n",
       "       [ 7.74848409e-01,  9.02114765e-02, -8.03439274e-01,\n",
       "         5.72112435e-01],\n",
       "       [-1.51965805e+00,  1.37991148e+00,  2.70878810e+00,\n",
       "        -1.02269301e+00],\n",
       "       [-1.39588315e+00, -1.46283041e+00, -4.53597491e-01,\n",
       "        -1.36855443e+00],\n",
       "       [-3.09933525e-01,  3.53553362e-01, -7.52804279e-01,\n",
       "         3.41057791e-02],\n",
       "       [-1.65394214e+00,  4.48086346e-01, -9.73756984e-01,\n",
       "        -1.67598681e+00],\n",
       "       [-3.62479475e-01, -1.05093669e+00, -3.43121138e-01,\n",
       "        -5.80758971e-01],\n",
       "       [-8.24883830e-01,  2.32010953e-01, -3.79946589e-01,\n",
       "        -4.27042783e-01],\n",
       "       [ 1.08311798e+00, -1.29402151e+00,  2.92117889e-01,\n",
       "        -3.30970166e-01],\n",
       "       [-8.37728396e-01, -2.00139833e-01,  8.95779092e-02,\n",
       "        -5.23115400e-01],\n",
       "       [-9.18298852e-01,  1.43393033e+00,  2.32276531e-01,\n",
       "        -8.11813615e-02],\n",
       "       [ 7.76016097e-01,  1.33264499e+00,  1.49419267e-01,\n",
       "         1.47519504e+00],\n",
       "       [ 5.38975481e-01, -3.28434597e-01,  1.61783412e+00,\n",
       "         2.26251013e-01],\n",
       "       [-8.26051518e-01,  2.86029801e-01, -6.69947015e-01,\n",
       "        -3.88613736e-01],\n",
       "       [-4.24366926e-01,  1.17058844e+00,  1.50275459e+00,\n",
       "         3.79967201e-01],\n",
       "       [-6.85928986e-01,  1.50982681e-01,  1.97227908e+00,\n",
       "        -2.15683025e-01],\n",
       "       [-4.34876116e-01,  1.65675807e+00,  9.59579186e-01,\n",
       "         5.14468865e-01],\n",
       "       [-1.48792614e-01, -1.24000266e+00, -9.78360166e-01,\n",
       "        -5.42329924e-01],\n",
       "       [-1.38303858e+00, -1.46958277e+00,  1.12593816e-01,\n",
       "        -1.29169634e+00],\n",
       "       [ 8.25058983e-01,  6.91171163e-01,  1.30942097e+00,\n",
       "         1.03326100e+00],\n",
       "       [ 1.21273132e+00,  8.93741844e-01,  1.92164409e+00,\n",
       "         1.57126765e+00],\n",
       "       [-4.62900623e-01, -6.25538262e-01, -9.04709264e-01,\n",
       "        -4.84686354e-01],\n",
       "       [ 1.89836839e-01,  5.62876398e-01,  1.02862691e+00,\n",
       "         5.52897912e-01],\n",
       "       [ 5.90353742e-01, -1.33453565e+00, -1.13486833e+00,\n",
       "        -4.46257307e-01],\n",
       "       [ 4.42057396e-01, -1.52873340e-01, -3.93756133e-01,\n",
       "         2.83894584e-01],\n",
       "       [ 1.66579418e+00,  1.28537849e+00,  9.50372823e-01,\n",
       "         2.18613240e+00],\n",
       "       [-1.38283424e-01,  1.24486436e+00,  7.06404211e-01,\n",
       "         6.10541482e-01],\n",
       "       [ 8.79940308e-01, -1.28051680e+00,  8.85928284e-01,\n",
       "        -4.46257307e-01],\n",
       "       [ 1.74402926e+00,  8.80237132e-01,  3.23815396e+00,\n",
       "         1.87870003e+00],\n",
       "       [ 1.55486384e+00, -8.88880147e-01, -4.21375221e-01,\n",
       "         1.49392920e-01],\n",
       "       [ 4.77088029e-01, -4.09462869e-01, -5.82486569e-01,\n",
       "         1.30178396e-01],\n",
       "       [ 1.06443498e+00,  7.45190011e-01, -1.16248742e+00,\n",
       "         1.28304980e+00],\n",
       "       [-1.06755854e-01,  1.56222509e+00,  1.30942097e+00,\n",
       "         9.94831951e-01],\n",
       "       [-1.42507534e+00, -8.28108943e-01, -3.93111688e-02,\n",
       "        -1.31091086e+00],\n",
       "       [-6.61407543e-01, -1.55061104e+00, -3.38517957e-01,\n",
       "        -1.02269301e+00],\n",
       "       [-1.56403019e+00, -1.54385868e+00, -2.28041604e-01,\n",
       "        -1.67598681e+00],\n",
       "       [ 1.26527727e+00,  2.45515665e-01, -1.15328106e+00,\n",
       "         1.11011909e+00],\n",
       "       [ 9.19641692e-01, -1.01717491e+00,  1.19434143e+00,\n",
       "        -1.19610408e-01],\n",
       "       [ 1.10530405e+00,  9.95027184e-01, -3.38517957e-01,\n",
       "         1.49440956e+00],\n",
       "       [ 3.34630122e-01, -5.31005278e-01, -1.29597968e+00,\n",
       "         1.48912557e-02],\n",
       "       [ 7.30476274e-01, -1.79882765e-01, -9.13915627e-01,\n",
       "         3.60752677e-01],\n",
       "       [-8.03865450e-01,  1.58923451e+00,  1.81641536e-01,\n",
       "         1.10963873e-01],\n",
       "       [-8.40063771e-01,  7.92456503e-01,  1.01942054e+00,\n",
       "        -2.73326596e-01],\n",
       "       [-9.15759131e-02, -6.05281194e-01, -2.28041604e-01,\n",
       "        -3.50184689e-01],\n",
       "       [-8.24883830e-01, -1.51684926e+00, -7.25185191e-01,\n",
       "        -8.88191346e-01],\n",
       "       [-2.49213762e-01,  9.20751268e-01,  2.23926360e+00,\n",
       "         3.60752677e-01],\n",
       "       [-1.49046586e+00, -4.90491142e-01, -3.79946589e-01,\n",
       "        -1.42619800e+00],\n",
       "       [-6.70544700e-02,  2.38763309e-01,  7.20213755e-01,\n",
       "         2.83894584e-01],\n",
       "       [-1.49747198e+00, -1.05606848e-01,  9.13547372e-01,\n",
       "        -1.34933991e+00],\n",
       "       [ 8.98623313e-01, -1.40881156e+00, -6.88359740e-01,\n",
       "        -4.65471830e-01],\n",
       "       [-2.79573643e-01,  7.65447079e-01, -8.35661544e-01,\n",
       "         2.26251013e-01],\n",
       "       [ 9.62846140e-01,  6.10142891e-01,  2.00910454e+00,\n",
       "         1.09090457e+00],\n",
       "       [-6.98773552e-01, -7.74090095e-01, -2.14232060e-01,\n",
       "        -6.57617064e-01],\n",
       "       [-1.62591764e+00,  1.05579839e+00,  9.22753735e-01,\n",
       "        -1.42619800e+00],\n",
       "       [-7.80511695e-01, -1.57086811e+00, -9.82963347e-01,\n",
       "        -1.00347849e+00],\n",
       "       [ 8.55418865e-01,  1.73778635e+00, -1.25915423e+00,\n",
       "         2.05163074e+00],\n",
       "       [-1.02105537e+00, -7.60585383e-01,  5.77515133e-01,\n",
       "        -8.30547775e-01],\n",
       "       [-1.70882347e+00,  1.10306488e+00, -1.00597925e+00,\n",
       "        -2.38692417e+00],\n",
       "       [ 1.37971067e+00, -1.37504978e+00,  5.72911952e-01,\n",
       "        -2.54112072e-01],\n",
       "       [-1.61891151e+00,  2.65772733e-01, -1.30978922e+00,\n",
       "        -1.59912871e+00],\n",
       "       [ 8.49580427e-01,  6.91171163e-01,  6.69578760e-01,\n",
       "         1.07169004e+00],\n",
       "       [-1.28612050e+00,  1.03554132e+00,  1.61323094e+00,\n",
       "        -6.19188018e-01],\n",
       "       [-1.15300409e+00,  1.60273923e+00, -1.01518562e+00,\n",
       "        -4.65471830e-01],\n",
       "       [-1.41806922e+00,  1.06255074e+00, -9.78360166e-01,\n",
       "        -8.68976822e-01],\n",
       "       [ 1.47896413e+00,  3.80562786e-01,  1.34164324e+00,\n",
       "         1.30226433e+00],\n",
       "       [-1.21489154e+00,  1.77992105e-01, -4.62803854e-01,\n",
       "        -8.49762299e-01],\n",
       "       [ 4.42057396e-01,  1.39341619e+00, -1.32820195e+00,\n",
       "         1.28304980e+00],\n",
       "       [-8.59914463e-01, -4.22967582e-01, -8.12645637e-01,\n",
       "        -5.99973494e-01],\n",
       "       [ 5.44813920e-01,  8.19465927e-01,  2.07354907e+00,\n",
       "         9.94831951e-01],\n",
       "       [ 8.57754241e-01,  6.70914095e-01,  3.38149702e-01,\n",
       "         1.16776266e+00],\n",
       "       [-4.95595880e-01, -1.18598381e+00,  1.77038355e-01,\n",
       "        -6.96046111e-01],\n",
       "       [-5.93681653e-01, -5.71519414e-01,  3.84181516e-01,\n",
       "        -5.03900877e-01],\n",
       "       [-7.87313476e-02, -1.44257334e+00, -9.92169710e-01,\n",
       "        -7.15260635e-01],\n",
       "       [ 1.08662104e+00, -1.07794612e+00, -1.00597925e+00,\n",
       "        -1.58039455e-01],\n",
       "       [ 1.12281936e+00,  1.73778635e+00,  6.32753309e-01,\n",
       "         2.18613240e+00],\n",
       "       [-1.27327593e+00,  1.15033137e+00, -8.58677450e-01,\n",
       "        -5.99973494e-01],\n",
       "       [-1.19504085e+00,  1.71239749e-01, -4.58200672e-01,\n",
       "        -7.53689682e-01],\n",
       "       [ 1.56070228e+00, -6.32290618e-01,  2.96721070e-01,\n",
       "         3.99181724e-01],\n",
       "       [-3.04095087e-01, -1.00367020e+00,  8.35293289e-01,\n",
       "        -4.65471830e-01],\n",
       "       [ 5.90353742e-01,  2.43084817e-03, -7.52804279e-01,\n",
       "         4.95254341e-01],\n",
       "       [ 2.83251860e-01,  1.10981724e+00,  3.28943340e-01,\n",
       "         9.56402904e-01],\n",
       "       [ 4.75920341e-01, -1.46120984e-01, -9.69153803e-01,\n",
       "         3.03109107e-01],\n",
       "       [-1.66912209e+00, -7.87594807e-01, -1.14407469e+00,\n",
       "        -2.07949180e+00],\n",
       "       [-6.20538471e-01,  1.36640677e+00,  9.18150553e-01,\n",
       "         2.45465537e-01],\n",
       "       [ 3.21989902e-02, -1.48308748e+00, -2.87882962e-01,\n",
       "        -7.53689682e-01],\n",
       "       [-1.58037782e+00,  9.20751268e-01,  6.74181942e-01,\n",
       "        -1.29169634e+00],\n",
       "       [-1.79152496e-01, -3.28434597e-01,  1.86244718e-01,\n",
       "        -2.15683025e-01],\n",
       "       [ 2.97264113e-01, -3.48691665e-01,  6.72064478e-03,\n",
       "         7.25348259e-02],\n",
       "       [-7.16288868e-01,  8.46475352e-01,  8.62912377e-01,\n",
       "        -1.38824932e-01],\n",
       "       [ 4.82926468e-01, -3.48691665e-01, -2.28041604e-01,\n",
       "         1.68607443e-01],\n",
       "       [ 1.92172214e-01,  9.13998912e-01, -1.06582061e+00,\n",
       "         7.64257669e-01],\n",
       "       [-3.48467222e-01, -5.78271770e-01, -1.15788424e+00,\n",
       "        -4.07828260e-01],\n",
       "       [ 1.02123053e+00, -1.34128800e+00,  2.49704176e+00,\n",
       "        -4.07828260e-01],\n",
       "       [-1.50798117e+00,  9.68017760e-01, -4.12168859e-01,\n",
       "        -1.15719467e+00],\n",
       "       [ 6.97781017e-01, -1.21974559e+00, -5.13438849e-01,\n",
       "        -3.50184689e-01],\n",
       "       [ 7.98202165e-01,  2.26879163e-02,  1.24497643e+00,\n",
       "         5.91326959e-01],\n",
       "       [ 1.60273904e+00, -8.55118367e-01, -1.11185242e+00,\n",
       "         1.87821967e-01],\n",
       "       [-1.13315340e+00, -7.87594807e-01, -5.59470662e-01,\n",
       "        -1.08033658e+00],\n",
       "       [ 2.03849092e-01, -1.59625696e-01,  7.75451931e-01,\n",
       "         9.17493494e-02],\n",
       "       [-1.48813048e+00, -2.13644545e-01, -6.23915201e-01,\n",
       "        -1.23405277e+00],\n",
       "       [ 2.49388915e-01, -1.09145083e+00, -8.17248818e-01,\n",
       "        -4.46257307e-01],\n",
       "       [ 8.79940308e-01, -1.34128800e+00, -8.03439274e-01,\n",
       "        -4.84686354e-01],\n",
       "       [ 1.51633014e+00,  1.73103399e+00,  5.17673775e-01,\n",
       "         2.49356478e+00],\n",
       "       [ 1.18353913e+00,  4.68343414e-01, -4.72010216e-01,\n",
       "         1.18697718e+00],\n",
       "       [ 2.70407294e-01, -1.04418434e+00,  2.13863806e-01,\n",
       "        -4.46257307e-01],\n",
       "       [ 1.51399477e+00, -1.41556392e+00, -3.15502050e-01,\n",
       "        -4.27042783e-01],\n",
       "       [ 2.16693657e-01, -8.95632503e-01, -5.96296113e-01,\n",
       "        -2.73326596e-01],\n",
       "       [ 1.11601758e-01, -1.39530685e+00, -1.02439198e+00,\n",
       "        -6.76831588e-01],\n",
       "       [ 8.34400486e-01, -1.20624088e+00, -1.45184340e-01,\n",
       "        -3.50184689e-01],\n",
       "       [-1.06075676e+00, -1.18598381e+00, -3.93111688e-02,\n",
       "        -1.02269301e+00],\n",
       "       [ 1.64127273e+00,  1.33264499e+00,  1.89862818e+00,\n",
       "         2.33984859e+00],\n",
       "       [ 1.24659427e+00, -1.32616272e-01, -2.55016247e-02,\n",
       "         6.87399576e-01],\n",
       "       [ 6.76762637e-01,  1.47444446e+00, -5.04232486e-01,\n",
       "         1.64812575e+00],\n",
       "       [-8.80728498e-02, -1.42906863e+00, -1.82009791e-01,\n",
       "        -7.15260635e-01],\n",
       "       [ 5.14454038e-01,  3.67058074e-01, -5.68677025e-01,\n",
       "         6.29756005e-01],\n",
       "       [ 1.62258973e+00, -6.32290618e-01, -1.23613832e+00,\n",
       "         3.60752677e-01],\n",
       "       [-1.49863967e+00, -7.53833027e-01, -3.29311594e-01,\n",
       "        -1.40698348e+00],\n",
       "       [-1.25576062e+00,  1.20435022e+00, -1.13947151e+00,\n",
       "        -6.19188018e-01],\n",
       "       [-8.35393020e-01, -8.41613655e-01, -1.13026515e+00,\n",
       "        -7.92118728e-01],\n",
       "       [-1.51615499e+00, -1.29402151e+00,  4.81492770e-02,\n",
       "        -1.56069967e+00],\n",
       "       [ 2.30705910e-01,  1.26512143e+00, -1.24074150e+00,\n",
       "         1.07169004e+00],\n",
       "       [ 3.10313024e-02,  8.32970639e-01, -1.13026515e+00,\n",
       "         6.29756005e-01],\n",
       "       [-1.27094056e+00, -1.32103093e+00, -7.71217005e-01,\n",
       "        -1.23405277e+00],\n",
       "       [-6.17035408e-01, -1.24000266e+00, -1.03359834e+00,\n",
       "        -8.30547775e-01],\n",
       "       [ 3.49810063e-01, -9.42898996e-01, -1.11185242e+00,\n",
       "        -2.34897549e-01],\n",
       "       [ 1.59456522e+00,  1.26512143e+00,  1.64085003e+00,\n",
       "         2.20534693e+00],\n",
       "       [ 9.93206022e-01, -9.90165488e-01, -1.00597925e+00,\n",
       "        -1.19610408e-01]])"
      ]
     },
     "execution_count": 16,
     "metadata": {},
     "output_type": "execute_result"
    }
   ],
   "source": [
    "from sklearn.preprocessing import scale\n",
    "scl = scale(adv)\n",
    "scl"
   ]
  },
  {
   "cell_type": "code",
   "execution_count": 18,
   "metadata": {},
   "outputs": [
    {
     "data": {
      "text/html": [
       "<div>\n",
       "<style scoped>\n",
       "    .dataframe tbody tr th:only-of-type {\n",
       "        vertical-align: middle;\n",
       "    }\n",
       "\n",
       "    .dataframe tbody tr th {\n",
       "        vertical-align: top;\n",
       "    }\n",
       "\n",
       "    .dataframe thead th {\n",
       "        text-align: right;\n",
       "    }\n",
       "</style>\n",
       "<table border=\"1\" class=\"dataframe\">\n",
       "  <thead>\n",
       "    <tr style=\"text-align: right;\">\n",
       "      <th></th>\n",
       "      <th>TV</th>\n",
       "      <th>radio</th>\n",
       "      <th>newspaper</th>\n",
       "      <th>sales</th>\n",
       "    </tr>\n",
       "  </thead>\n",
       "  <tbody>\n",
       "    <tr>\n",
       "      <th>0</th>\n",
       "      <td>0.969852</td>\n",
       "      <td>0.981522</td>\n",
       "      <td>1.778945</td>\n",
       "      <td>1.552053</td>\n",
       "    </tr>\n",
       "    <tr>\n",
       "      <th>1</th>\n",
       "      <td>-1.197376</td>\n",
       "      <td>1.082808</td>\n",
       "      <td>0.669579</td>\n",
       "      <td>-0.696046</td>\n",
       "    </tr>\n",
       "    <tr>\n",
       "      <th>2</th>\n",
       "      <td>-1.516155</td>\n",
       "      <td>1.528463</td>\n",
       "      <td>1.783549</td>\n",
       "      <td>-0.907406</td>\n",
       "    </tr>\n",
       "    <tr>\n",
       "      <th>3</th>\n",
       "      <td>0.052050</td>\n",
       "      <td>1.217855</td>\n",
       "      <td>1.286405</td>\n",
       "      <td>0.860330</td>\n",
       "    </tr>\n",
       "    <tr>\n",
       "      <th>4</th>\n",
       "      <td>0.394182</td>\n",
       "      <td>-0.841614</td>\n",
       "      <td>1.281802</td>\n",
       "      <td>-0.215683</td>\n",
       "    </tr>\n",
       "  </tbody>\n",
       "</table>\n",
       "</div>"
      ],
      "text/plain": [
       "         TV     radio  newspaper     sales\n",
       "0  0.969852  0.981522   1.778945  1.552053\n",
       "1 -1.197376  1.082808   0.669579 -0.696046\n",
       "2 -1.516155  1.528463   1.783549 -0.907406\n",
       "3  0.052050  1.217855   1.286405  0.860330\n",
       "4  0.394182 -0.841614   1.281802 -0.215683"
      ]
     },
     "execution_count": 18,
     "metadata": {},
     "output_type": "execute_result"
    }
   ],
   "source": [
    "scl_data = pd.DataFrame(scl,columns= adv.columns)\n",
    "scl_data.head(5)"
   ]
  },
  {
   "cell_type": "code",
   "execution_count": 20,
   "metadata": {},
   "outputs": [
    {
     "data": {
      "image/png": "[encoded data removed]",
      "text/plain": [
       "<Figure size 432x288 with 1 Axes>"
      ]
     },
     "metadata": {
      "needs_background": "light"
     },
     "output_type": "display_data"
    }
   ],
   "source": [
    "sns.kdeplot(scl_data[\"TV\"])\n",
    "sns.kdeplot(scl_data[\"radio\"])\n",
    "sns.kdeplot(scl_data[\"newspaper\"])\n",
    "plt.show()"
   ]
  },
  {
   "cell_type": "code",
   "execution_count": 22,
   "metadata": {},
   "outputs": [
    {
     "data": {
      "text/plain": [
       "TV           0.0\n",
       "radio       -0.0\n",
       "newspaper    0.0\n",
       "sales       -0.0\n",
       "dtype: float64"
      ]
     },
     "execution_count": 22,
     "metadata": {},
     "output_type": "execute_result"
    }
   ],
   "source": [
    "scl_data.mean().round(3)"
   ]
  },
  {
   "cell_type": "code",
   "execution_count": 24,
   "metadata": {},
   "outputs": [
    {
     "data": {
      "text/plain": [
       "TV           1.003\n",
       "radio        1.003\n",
       "newspaper    1.003\n",
       "sales        1.003\n",
       "dtype: float64"
      ]
     },
     "execution_count": 24,
     "metadata": {},
     "output_type": "execute_result"
    }
   ],
   "source": [
    "scl_data.std().round(3)"
   ]
  },
  {
   "cell_type": "code",
   "execution_count": 26,
   "metadata": {},
   "outputs": [
    {
     "data": {
      "text/plain": [
       "TV           147.0425\n",
       "radio         23.2640\n",
       "newspaper     30.5540\n",
       "sales         14.0225\n",
       "dtype: float64"
      ]
     },
     "execution_count": 26,
     "metadata": {},
     "output_type": "execute_result"
    }
   ],
   "source": [
    "adv.mean()"
   ]
  },
  {
   "cell_type": "code",
   "execution_count": 27,
   "metadata": {},
   "outputs": [
    {
     "data": {
      "text/plain": [
       "TV           85.854236\n",
       "radio        14.846809\n",
       "newspaper    21.778621\n",
       "sales         5.217457\n",
       "dtype: float64"
      ]
     },
     "execution_count": 27,
     "metadata": {},
     "output_type": "execute_result"
    }
   ],
   "source": [
    "adv.std()"
   ]
  },
  {
   "cell_type": "code",
   "execution_count": null,
   "metadata": {},
   "outputs": [],
   "source": []
  }
 ],
 "metadata": {
  "kernelspec": {
   "display_name": "Python 3",
   "language": "python",
   "name": "python3"
  },
  "language_info": {
   "codemirror_mode": {
    "name": "ipython",
    "version": 3
   },
   "file_extension": ".py",
   "mimetype": "text/x-python",
   "name": "python",
   "nbconvert_exporter": "python",
   "pygments_lexer": "ipython3",
   "version": "3.7.1"
  }
 },
 "nbformat": 4,
 "nbformat_minor": 2
}
